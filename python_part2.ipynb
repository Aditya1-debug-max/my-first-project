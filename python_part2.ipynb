{
 "cells": [
  {
   "cell_type": "code",
   "execution_count": 5,
   "id": "bac617c2-20c0-4fd3-adc6-bf3bd2384280",
   "metadata": {},
   "outputs": [
    {
     "data": {
      "text/plain": [
       "[1, 2, 3, 4, 5]"
      ]
     },
     "execution_count": 5,
     "metadata": {},
     "output_type": "execute_result"
    }
   ],
   "source": [
    "# polymorphism : Ek function, method ya operator ka alag-alag objects ke liye alag-alag tarike se kaam karna.\n",
    "# Yeh object-oriented programming ka core concept hai. Python me polymorphism method overloading, \n",
    "# method overriding, aur built-in polymorphic functions ke through hota hai. \n",
    "def test(a,b):\n",
    "    return a+b\n",
    "test(\"Aditya\" ,\"Coder\")\n",
    "test([1,2,3],[4,5])\n",
    "\n"
   ]
  },
  {
   "cell_type": "code",
   "execution_count": 30,
   "id": "c4dc3a5d-0103-4621-8dca-ee9c7678498f",
   "metadata": {},
   "outputs": [
    {
     "name": "stdout",
     "output_type": "stream",
     "text": [
      "This is the syllabus of Data Science\n",
      "This is the syllabus of Web Development\n"
     ]
    }
   ],
   "source": [
    "class data_science:\n",
    "    def syllbus(self):\n",
    "        print(\"This is the syllabus of Data Science\")\n",
    "\n",
    "class web_dev:\n",
    "    def syllbus(self):\n",
    "        print(\"This is the syllabus of Web Development\")\n",
    "\n",
    "class class_parcer:\n",
    "    @staticmethod\n",
    "    def parser(class_obj):\n",
    "        for i in class_obj:\n",
    "            i.syllbus()\n",
    "\n",
    "# Create objects (instances)\n",
    "datascience = data_science()\n",
    "webdev = web_dev()\n",
    "\n",
    "# Put them in a list\n",
    "class_obj = [datascience, webdev]\n",
    "\n",
    "# Call the static method\n",
    "class_parcer.parser(class_obj)\n",
    "# Static Method ka matlab:\n",
    "# Is method ko use karne ke liye class_parcer ka object banane ki zarurat nahi hoti. Direct class ke naam se call kar sakte ho.\n",
    "# 💡 Concept Used:\n",
    "# Polymorphism: Same method name (syllbus()), lekin different behavior depending on object.\n",
    "\n",
    "# Static method: Method jise class ke naam se directly call kiya ja sakta hai.\n",
    "\n",
    "# Object List Processing: Multiple objects ko ek list me daal ke unka function call karna."
   ]
  },
  {
   "cell_type": "code",
   "execution_count": 38,
   "id": "e102f63a-a7dd-43bc-b068-c1e81a437068",
   "metadata": {},
   "outputs": [
    {
     "name": "stdout",
     "output_type": "stream",
     "text": [
      "10000\n",
      "None\n",
      "5000\n"
     ]
    }
   ],
   "source": [
    "# Encapsulation ka matlab hota hai:\n",
    "# \"Data ko wrap (band) karna aur usse direct access se protect karna.\"\n",
    "# Yeh ek OOP (Object-Oriented Programming) ka concept hai jisme hum data (variables) aur methods ko ek class ke andar bind karte hain, \n",
    "# aur unki accessibility ko control karte hain.\n",
    "# 🔹 Python me Encapsulation kaise hoti hai?\n",
    "# Python me hum access modifiers ka use karke encapsulation achieve karte hain:\n",
    "\n",
    "# Access Level\tSyntax\tDescription\n",
    "# Public\tvar\tSab jagah se accessible\n",
    "# Protected\t_var\tClass + subclasses me accessible (by convention)\n",
    "# Private\t__var\tSirf class ke andar accessible\n",
    "class BankAccount:\n",
    "    def __init__(self, owner, balance):\n",
    "        self.owner = owner           # Public\n",
    "        self.__balance = balance     # Private\n",
    "\n",
    "    def deposit(self, amount):\n",
    "        if amount > 0:\n",
    "            self.__balance += amount\n",
    "\n",
    "    def withdraw(self, amount):\n",
    "        if 0 < amount <= self.__balance:\n",
    "            self.__balance -= amount\n",
    "        else:\n",
    "            print(\"Insufficient funds\")\n",
    "\n",
    "    def get_balance(self):\n",
    "        return self.__balance\n",
    "acc = BankAccount(\"Rahul\", 10000)\n",
    "\n",
    "# print(acc.owner)         # ✅ Output: Rahul\n",
    "# print(acc.__balance)     # ❌ Error: AttributeError\n",
    "print(acc.get_balance())  # Output: 10000\n",
    "print(acc.withdraw(5000))\n",
    "print(acc.get_balance())\n",
    "\n",
    "# 📦 Why Use Encapsulation?\n",
    "# Benefit\tDescription\n",
    "# 🔒 Security\tData secure rehta hai (no direct access)\n",
    "# ✅ Control\tAccess control via getter/setter\n",
    "# 🧼 Clean Code\tImplementation details hide hote hain\n",
    "# 🔄 Flexibility\tCode future me easily update ho sakta hai\n",
    "# hai\n",
    "\n",
    "# 🔚 Summary:\n",
    "# 🔑 Encapsulation = Class ke andar data ko secure rakhna + uska access control karna.\n",
    "# Python me __ (double underscore) se private variables banakar encapsulation implement kiya jata hai.\n",
    "\n"
   ]
  },
  {
   "cell_type": "code",
   "execution_count": 40,
   "id": "ffbacc08-7e02-4186-a3e8-5956ff76459d",
   "metadata": {},
   "outputs": [
    {
     "name": "stdout",
     "output_type": "stream",
     "text": [
      "Animal speaks\n",
      "Dog barks\n",
      "Father: Gardening\n",
      "Child: Painting\n"
     ]
    }
   ],
   "source": [
    "# 🔹 Definition:\n",
    "# Inheritance ek Object-Oriented Programming (OOP) concept hai jisme:\n",
    "# Ek class (child/derived class), doosri class (parent/base class) ke properties (attributes) aur methods ko reuse karti hai.\n",
    "# Yeh code reuse aur modularity ke liye bahut important hota hai.\n",
    "# syntax\n",
    "# class Parent:\n",
    "#     # parent class\n",
    "# class Child(Parent):\n",
    "#     # child class inherits Parent\n",
    "# example of inheritance \n",
    "class Animal:\n",
    "    def speak(self):\n",
    "        print(\"Animal speaks\")\n",
    "\n",
    "class Dog(Animal):\n",
    "    def bark(self):\n",
    "        print(\"Dog barks\")\n",
    "d = Dog()\n",
    "d.speak()   # ✅ Inherited from Animal\n",
    "d.bark()    # ✅ Own method\n",
    "\n",
    "# 🏗️ Types of Inheritance in Python:\n",
    "# Type\tExample\n",
    "# Single Inheritance\t1 parent, 1 child\n",
    "# Multiple Inheritance\t2+ parents, 1 child\n",
    "# Multilevel Inheritance\tGrandparent → Parent → Child\n",
    "# Hierarchical Inheritance\t1 parent → multiple children\n",
    "# Hybrid Inheritance\tCombination of above\n",
    "# multiple inheritance \n",
    "class Father:\n",
    "    def skill(self):\n",
    "        print(\"Father: Gardening\")\n",
    "\n",
    "class Mother:\n",
    "    def skill(self):\n",
    "        print(\"Mother: Cooking\")\n",
    "\n",
    "class Child(Father, Mother):\n",
    "    def hobby(self):\n",
    "        print(\"Child: Painting\")\n",
    "c = Child()\n",
    "c.skill()   # Output: Father: Gardening (left to right priority)\n",
    "c.hobby()\n"
   ]
  },
  {
   "cell_type": "code",
   "execution_count": 1,
   "id": "40d4daad-fbe3-456d-a18b-4f47f24c0bcc",
   "metadata": {},
   "outputs": [
    {
     "name": "stdout",
     "output_type": "stream",
     "text": [
      "there is a details about data science\n"
     ]
    }
   ],
   "source": [
    "# ✅ 1. Blueprint Provide Karna (Structure tay karna)\n",
    "# Abstract class ek template ya design jaisa kaam karti hai.\n",
    "# Aap usme define karte ho kya hona chahiye, lekin kaise hoga, woh subclass batayegi.\n",
    "# example 1 :\n",
    "import abc\n",
    "class pwskills:\n",
    "    @abc.abstractmethod\n",
    "    def student_details(self):\n",
    "        pass\n",
    "    @abc.abstractmethod\n",
    "    def student_assignment(self):\n",
    "        pass\n",
    "    @abc.abstractmethod\n",
    "    def student_marks(self):\n",
    "        pass\n",
    "class student_Details(pwskills):\n",
    "    def student_details(self):\n",
    "        print(\"there is a details about students details\")\n",
    "class data_science(pwskills):\n",
    "    def student_details(self):\n",
    "        print(\"there is a details about data science\")\n",
    "data = data_science()\n",
    "data.student_details()"
   ]
  },
  {
   "cell_type": "code",
   "execution_count": 2,
   "id": "2dacedca-86d1-4493-abe6-f4f2352aed03",
   "metadata": {},
   "outputs": [
    {
     "name": "stdout",
     "output_type": "stream",
     "text": [
      "Bark\n",
      "Meow\n"
     ]
    }
   ],
   "source": [
    "# example 2 :\n",
    "from abc import ABC, abstractmethod\n",
    "class Animal(ABC):\n",
    "    @abstractmethod\n",
    "    def sound(self):\n",
    "        pass\n",
    "\n",
    "class Dog(Animal):\n",
    "    def sound(self):\n",
    "        print(\"Bark\")\n",
    "\n",
    "class Cat(Animal):\n",
    "    def sound(self):\n",
    "        print(\"Meow\")\n",
    "\n",
    "# Objects\n",
    "dog = Dog()\n",
    "dog.sound()\n",
    "\n",
    "cat = Cat()\n",
    "cat.sound()\n"
   ]
  },
  {
   "cell_type": "code",
   "execution_count": 13,
   "id": "299a74e9-2e09-43de-9df4-82c56ae4b951",
   "metadata": {},
   "outputs": [
    {
     "name": "stdout",
     "output_type": "stream",
     "text": [
      "this is the start of the fun\n",
      "13\n",
      "this is the end of the fun\n"
     ]
    }
   ],
   "source": [
    "# decorator :\n",
    "#syntax\n",
    "# def decorator_name(original_function):\n",
    "#     def wrapper_function():\n",
    "#         # Extra kaam yahan hoga\n",
    "#         original_function()\n",
    "#         # Extra kaam yahan bhi ho sakta hai\n",
    "#     return wrapper_function\n",
    "\n",
    "# @decorator_name\n",
    "# def function_to_be_modified():\n",
    "#     print(\"Main original function hoon!\")\n",
    "\n",
    "# Function call\n",
    "# function_to_be_modified()\n",
    "def deco(func):\n",
    "    def inner_dec():\n",
    "        print(\"this is the start of the fun\")\n",
    "        func()\n",
    "        print(\"this is the end of the fun\")\n",
    "    return inner_dec\n",
    "@deco\n",
    "def test1():\n",
    "    print(6+7)\n",
    "test1()"
   ]
  },
  {
   "cell_type": "code",
   "execution_count": 18,
   "id": "04389452-8e2a-4dc0-a7d6-be5a4eecbf47",
   "metadata": {},
   "outputs": [
    {
     "name": "stdout",
     "output_type": "stream",
     "text": [
      "start inner\n",
      "hi i am Aditya\n",
      "end inner\n",
      "0.0\n"
     ]
    }
   ],
   "source": [
    "# example 2\n",
    "import time\n",
    "def timer_test(func):\n",
    "    def timer_test_inner():\n",
    "        print(\"start inner\")\n",
    "        start = time.time()\n",
    "        func()\n",
    "        end = time.time()\n",
    "        print(\"end inner\")\n",
    "        print(end-start)\n",
    "       \n",
    "    return timer_test_inner\n",
    "@timer_test\n",
    "def test2():\n",
    "    print(\"hi i am Aditya\")\n",
    "test2()\n"
   ]
  },
  {
   "cell_type": "code",
   "execution_count": 19,
   "id": "e6e7a89d-458f-43f8-9e77-b4256439cf49",
   "metadata": {},
   "outputs": [
    {
     "name": "stdout",
     "output_type": "stream",
     "text": [
      "Name: Ravi, Grade: 6th, School: Green Valley School\n",
      "Name: Meena, Grade: 7th, School: Green Valley School\n",
      "Total students admitted: 2\n",
      "Name: Ravi, Grade: 6th, School: Blue Mountain School\n",
      "Name: Meena, Grade: 7th, School: Blue Mountain School\n"
     ]
    }
   ],
   "source": [
    "# # class method :\n",
    "# # @classmethod ek aisa method hota hai jo class ke upar kaam karta hai, na ki instance ke upar.\n",
    "\n",
    "# Iska first argument cls hota hai (na ki self)\n",
    "\n",
    "# Ye method class level data ko access/change kar sakta hai\n",
    "\n",
    "# Isko call karne ke liye object ya class dono se call kar sakte ho\n",
    "# # \n",
    "\n",
    "class Student:\n",
    "    school_name = \"Green Valley School\"  # class variable\n",
    "    student_count = 0                    # ek aur class variable\n",
    "\n",
    "    def __init__(self, name, grade):\n",
    "        self.name = name\n",
    "        self.grade = grade\n",
    "        Student.student_count += 1       # har naya student par count badhega\n",
    "\n",
    "    @classmethod\n",
    "    def change_school(cls, new_name):\n",
    "        cls.school_name = new_name\n",
    "\n",
    "    @classmethod\n",
    "    def get_total_students(cls):\n",
    "        print(f\"Total students admitted: {cls.student_count}\")\n",
    "\n",
    "    def display(self):\n",
    "        print(f\"Name: {self.name}, Grade: {self.grade}, School: {Student.school_name}\")\n",
    "# Students banate hain\n",
    "s1 = Student(\"Ravi\", \"6th\")\n",
    "s2 = Student(\"Meena\", \"7th\")\n",
    "\n",
    "# Display details\n",
    "s1.display()\n",
    "s2.display()\n",
    "\n",
    "# Class method #1: School ka naam change karte hain\n",
    "Student.change_school(\"Blue Mountain School\")\n",
    "\n",
    "# Class method #2: Total students print karte hain\n",
    "Student.get_total_students()\n",
    "\n",
    "# Phir se display karte hain\n",
    "s1.display()\n",
    "s2.display()\n"
   ]
  },
  {
   "cell_type": "code",
   "execution_count": 20,
   "id": "5c6ff6bf-0b1c-4010-93cb-261417f75031",
   "metadata": {},
   "outputs": [
    {
     "name": "stdout",
     "output_type": "stream",
     "text": [
      "8\n",
      "24\n",
      "4\n"
     ]
    }
   ],
   "source": [
    "# static method :\n",
    "# @staticmethod ek aisa method hota hai jo na self leta hai, na cls.\n",
    "# Ye method na instance variables (object ke) ko access karta hai\n",
    "# Aur na class variables (cls) ko access karta hai\n",
    "# ➡️ Static method bas ek normal function ki tarah hota hai jo class ke andar rakha gaya hota hai — for organizational purposes.\n",
    "class MathUtils:\n",
    "\n",
    "    @staticmethod\n",
    "    def add(a, b):\n",
    "        return a + b\n",
    "\n",
    "    @staticmethod\n",
    "    def multiply(a, b):\n",
    "        return a * b\n",
    "# Direct class se call\n",
    "print(MathUtils.add(5, 3))        # Output: 8\n",
    "print(MathUtils.multiply(4, 6))   # Output: 24\n",
    "\n",
    "# Object se bhi call kar sakte ho (optional)\n",
    "m = MathUtils()\n",
    "print(m.add(2, 2))                # Output: 4\n",
    "# 🔍 Difference from classmethod and instancemethod:\n",
    "# Type\tFirst Argument\tAccess Instance (self)\tAccess Class (cls)\tUse For\n",
    "# Instance Method\tself\t✅ Yes\t❌ No\tObject-specific behavior\n",
    "# Class Method\tcls\t❌ No\t✅ Yes\tClass-level logic\n",
    "# Static Method\t❌ None\t❌ No\t❌ No\tUtility/helper logic\n"
   ]
  },
  {
   "cell_type": "code",
   "execution_count": 21,
   "id": "e4765290-29ae-4859-9e59-b643da2572cd",
   "metadata": {},
   "outputs": [
    {
     "name": "stdout",
     "output_type": "stream",
     "text": [
      "Point(2, 3)\n",
      "Point(6, 8)\n"
     ]
    }
   ],
   "source": [
    "# 🔷 Magic Functions / Dunder Functions Kya Hain?\n",
    "# Magic functions ya dunder functions wo special functions hote hain jinka naam double underscores (__) se start aur end hota hai.\n",
    "# Jaise: __init__, __str__, __add__, __len__ etc.\n",
    "\n",
    "# \"Dunder\" ka matlab hai \"double underscore\" — matlab __name__.\n",
    "\n",
    "# Ye functions Python ke internal behavior ko customize karte hain.\n",
    "# .\n",
    "\n",
    "# 🤔 Ye kyun useful hain?\n",
    "# Ye functions aapko apni class ke behavior ko customize karne dete hain.\n",
    "\n",
    "# Jaise: jab aap object ko print karo, ya add karo, to ye functions automatically call hote hain.\n",
    "\n",
    "# Isse aap Python ke built-in operators (jaise +, len(), etc.) ko apne objects ke liye bhi use kar sakte ho.\n",
    "\n",
    "# .\n",
    "\n",
    "# 📌 Common Magic (Dunder) Functions:\n",
    "# Function\tUse kya hai?\tExample\n",
    "# __init__\tObject banate waqt constructor ki tarah\tdef __init__(self):\n",
    "# __str__\tJab object ko string mein print karna ho\tdef __str__(self):\n",
    "# __add__\t+ operator ka behavior define karna\tdef __add__(self, other):\n",
    "# __len__\tlen() function ka behavior dena\tdef __len__(self):\n",
    "class Point:\n",
    "    def __init__(self, x, y):\n",
    "        self.x = x\n",
    "        self.y = y\n",
    "\n",
    "    def __str__(self):\n",
    "        return f\"Point({self.x}, {self.y})\"\n",
    "\n",
    "    def __add__(self, other):\n",
    "        return Point(self.x + other.x, self.y + other.y)\n",
    "\n",
    "# Objects banao\n",
    "p1 = Point(2, 3)\n",
    "p2 = Point(4, 5)\n",
    "\n",
    "# Print karne pe __str__ call hoga\n",
    "print(p1)   # Output: Point(2, 3)\n",
    "\n",
    "# Add karne pe __add__ call hoga\n",
    "p3 = p1 + p2\n",
    "print(p3)   # Output: Point(6, 8)\n",
    "\n",
    "\n",
    "# 🔍 Explanation:\n",
    "# __init__: Jab Point(2, 3) banaya, to ye method call hua.\n",
    "\n",
    "# __str__: Jab print(p1) likha, to ye method call hua — taaki human readable output aaye.\n",
    "\n",
    "# __add__: Jab p1 + p2 likha, to ye method call hua — taaki dono points ke coordinates add ho jayein.\n",
    "\n",
    "# Summary:\n",
    "# Point\tExplanation\n",
    "# Magic/Dunder functions\tPython ke special methods jo __name__ jese hote hain\n",
    "# Customize behavior\tObject creation, printing, addition, length etc. ko control karte hain\n",
    "# Automatically call hote hain\tJab Python built-in operations perform karta hai\n",
    "\n"
   ]
  },
  {
   "cell_type": "code",
   "execution_count": 24,
   "id": "15dd94f7-3465-4588-9955-9ea81dea5c4c",
   "metadata": {},
   "outputs": [
    {
     "name": "stdout",
     "output_type": "stream",
     "text": [
      "Rohan is 25 years old.\n"
     ]
    }
   ],
   "source": [
    "#  example 2 \n",
    "class Person:\n",
    "    def __init__(self, name, age):\n",
    "        self.name = name\n",
    "        self.age = age\n",
    "\n",
    "    def __str__(self):\n",
    "        return f\"{self.name} is {self.age} years old.\"\n",
    "\n",
    "p = Person(\"Rohan\", 25)\n",
    "print(p)\n"
   ]
  },
  {
   "cell_type": "code",
   "execution_count": 6,
   "id": "49d81aa7-327a-4326-b6fd-2fa334b43403",
   "metadata": {},
   "outputs": [
    {
     "name": "stdout",
     "output_type": "stream",
     "text": [
      "78.5\n"
     ]
    }
   ],
   "source": [
    "# What is a property decorator in Python?\n",
    "# The @property decorator lets you use a method like an attribute.\n",
    "# This is useful when you want to do something automatically when getting the value of a variable, \n",
    "# but you want to access it like a regular variable (without parentheses).\n",
    "\n",
    "# 🔹 Why use @property (getter)?\n",
    "# Sometimes, we want to control or customize how we get a value. Using @property lets us:\n",
    "# Add logic when getting a value\n",
    "# Protect the internal data\n",
    "# Use it like an attribute, not a method\n",
    "class Circle:\n",
    "    def __init__(self, radius):\n",
    "        self._radius = radius\n",
    "\n",
    "    @property\n",
    "    def area(self):\n",
    "        return 3.14 * (self._radius ** 2)\n",
    "\n",
    "# Using the class\n",
    "c = Circle(5)\n",
    "\n",
    "print(c.area)  # No parentheses!\n",
    "# 🔍 What's happening here?\n",
    "# area is a method, but we made it a property using @property.\n",
    "\n",
    "# So we can write c.area instead of c.area().\n",
    "\n",
    "# The area is calculated automatically when you access it."
   ]
  },
  {
   "cell_type": "code",
   "execution_count": 33,
   "id": "80a00fe6-44ef-4d73-8200-a86adcdc060d",
   "metadata": {},
   "outputs": [
    {
     "data": {
      "text/plain": [
       "400"
      ]
     },
     "execution_count": 33,
     "metadata": {},
     "output_type": "execute_result"
    }
   ],
   "source": [
    "# example 2 \n",
    "class pwskills:\n",
    "    def __init__(self, course_price, course_name):\n",
    "        self.__course_price = course_price\n",
    "        self.course_name = course_name\n",
    "    @property\n",
    "    def course_price_access(self):\n",
    "        return self.__course_price\n",
    "    @course_price_access.setter\n",
    "    def course_price_access_set(self, price):\n",
    "        if price <= 3500:\n",
    "            pass\n",
    "        else:\n",
    "            self.__course_price = price\n",
    "    @course_price_access.deleter\n",
    "    def course_price_delete(self):\n",
    "        del self.__course_price\n",
    "b = pwskills(400, \"data\")  \n",
    "b.course_price_access\n",
    "# del b.course_price_delete\n"
   ]
  },
  {
   "cell_type": "code",
   "execution_count": 45,
   "id": "29fec7a0-fcec-4de3-8fdb-11d94d080713",
   "metadata": {},
   "outputs": [],
   "source": [
    "# working with file in python\n",
    "f = open(\"test.txt\", 'w')\n",
    "f.write(\"this is my first file\")\n",
    "f = open(\"test.txt\", 'a')\n",
    "\n",
    "f.write(\"\\n this is my second file\")\n",
    "f.close()"
   ]
  },
  {
   "cell_type": "code",
   "execution_count": 46,
   "id": "5cccdbb7-58bc-4760-8534-b9993ad69951",
   "metadata": {},
   "outputs": [
    {
     "data": {
      "text/plain": [
       "'this is my first file\\n this is my second file'"
      ]
     },
     "execution_count": 46,
     "metadata": {},
     "output_type": "execute_result"
    }
   ],
   "source": [
    "f = open(\"test.txt\", 'r')\n",
    "f.read()"
   ]
  },
  {
   "cell_type": "code",
   "execution_count": 53,
   "id": "b019ad04-27c3-4f18-a6ea-ff865b647d73",
   "metadata": {},
   "outputs": [
    {
     "name": "stdout",
     "output_type": "stream",
     "text": [
      "this is my first file\n",
      " this is my second file\n"
     ]
    }
   ],
   "source": [
    "# 5. Using with Statement (Best Practice)\n",
    "# This automatically closes the file. \n",
    "with open('test.txt', 'r') as file:\n",
    "    content = file.read()\n",
    "    print(content)\n"
   ]
  },
  {
   "cell_type": "code",
   "execution_count": 49,
   "id": "24eccb2b-fe4d-4985-9ad4-e1677c246de3",
   "metadata": {},
   "outputs": [
    {
     "name": "stdout",
     "output_type": "stream",
     "text": [
      "this is my first file\n",
      "this is my second file\n"
     ]
    }
   ],
   "source": [
    "# 6. Reading Line by Line \n",
    "with open('test.txt', 'r') as file:\n",
    "    for line in file:\n",
    "        print(line.strip())  # .strip() removes extra spaces or newline characters\n"
   ]
  },
  {
   "cell_type": "code",
   "execution_count": 72,
   "id": "e31c6cf0-daa0-4e4e-813f-c0c1c0b34202",
   "metadata": {},
   "outputs": [],
   "source": [
    "import os\n",
    "os.path.getsize(\"test.txt\")\n",
    "f.close()"
   ]
  },
  {
   "cell_type": "code",
   "execution_count": 75,
   "id": "cb8d8388-804a-470f-bb5a-ccba7cfc14e3",
   "metadata": {},
   "outputs": [
    {
     "ename": "PermissionError",
     "evalue": "[WinError 32] The process cannot access the file because it is being used by another process: 'test.txt' -> 'Aditya.txt'",
     "output_type": "error",
     "traceback": [
      "\u001b[1;31m---------------------------------------------------------------------------\u001b[0m",
      "\u001b[1;31mPermissionError\u001b[0m                           Traceback (most recent call last)",
      "Cell \u001b[1;32mIn[75], line 1\u001b[0m\n\u001b[1;32m----> 1\u001b[0m os\u001b[38;5;241m.\u001b[39mrename(\u001b[38;5;124m\"\u001b[39m\u001b[38;5;124mtest.txt\u001b[39m\u001b[38;5;124m\"\u001b[39m,\u001b[38;5;124m\"\u001b[39m\u001b[38;5;124mAditya.txt\u001b[39m\u001b[38;5;124m\"\u001b[39m)\n",
      "\u001b[1;31mPermissionError\u001b[0m: [WinError 32] The process cannot access the file because it is being used by another process: 'test.txt' -> 'Aditya.txt'"
     ]
    }
   ],
   "source": [
    "os.rename(\"test.txt\",\"Aditya.txt\")"
   ]
  },
  {
   "cell_type": "markdown",
   "id": "c24d5b26-9102-44d1-932f-1c5a72cb2a41",
   "metadata": {},
   "source": []
  },
  {
   "cell_type": "code",
   "execution_count": 61,
   "id": "de46e2ed-9735-451d-aaf3-465983fdfaed",
   "metadata": {},
   "outputs": [],
   "source": [
    "f = open(\"test1.txt\",'w')\n",
    "f.write(\"Hi I am Aditya here\")\n",
    "f.close()"
   ]
  },
  {
   "cell_type": "code",
   "execution_count": 67,
   "id": "797fb4b0-2c95-4909-a15b-6f75ce617525",
   "metadata": {},
   "outputs": [],
   "source": [
    "\n",
    "# 📌 File Modes Summary:\n",
    "# Mode\tMeaning\n",
    "# 'r'\tRead\n",
    "# 'w'\tWrite (overwrite)\n",
    "# 'a'\tAppend\n",
    "# 'x'\tCreate new file\n",
    "# 'b'\tBinary mode (e.g. images)\n",
    "# 't'\tText mode (default) "
   ]
  },
  {
   "cell_type": "code",
   "execution_count": 77,
   "id": "c1a46efb-1321-4818-86a3-0381b63e9b21",
   "metadata": {},
   "outputs": [
    {
     "data": {
      "text/plain": [
       "'copy_test.txt'"
      ]
     },
     "execution_count": 77,
     "metadata": {},
     "output_type": "execute_result"
    }
   ],
   "source": [
    "import shutil\n",
    "shutil.copy(\"test.txt\", \"copy_test.txt\")"
   ]
  },
  {
   "cell_type": "code",
   "execution_count": 1,
   "id": "209246fd-85b3-434e-94da-a840f449bc37",
   "metadata": {},
   "outputs": [
    {
     "name": "stdout",
     "output_type": "stream",
     "text": [
      "this is my first file\n",
      " this is my second file\n"
     ]
    }
   ],
   "source": [
    "with open(\"copy_test.txt\",'r') as f:\n",
    "    print(f.read())"
   ]
  },
  {
   "cell_type": "code",
   "execution_count": 2,
   "id": "09bd0ca0-1eb9-4a5b-a4e1-befe0ed3a50b",
   "metadata": {},
   "outputs": [],
   "source": [
    "data = {\n",
    "    \"name\":\"Aditya\",\n",
    "    \"email_id\":\"adityakanojiya@gmail.com\",\n",
    "    \"phone_number\":951234569,\n",
    "    \"subject\":[\"Data science\",\"big data\",\"AI/ML\"]\n",
    "}\n",
    "import json\n",
    "with open(\"data.json\",'w') as f:\n",
    "    json.dump(data,f)"
   ]
  },
  {
   "cell_type": "code",
   "execution_count": 4,
   "id": "a78f0ccc-0dcf-48da-b72f-679c7d502629",
   "metadata": {},
   "outputs": [
    {
     "data": {
      "text/plain": [
       "'AI/ML'"
      ]
     },
     "execution_count": 4,
     "metadata": {},
     "output_type": "execute_result"
    }
   ],
   "source": [
    "data['subject'][2]"
   ]
  },
  {
   "cell_type": "code",
   "execution_count": 6,
   "id": "81d5336b-8ce8-4ff1-b48d-3a5cfe282045",
   "metadata": {},
   "outputs": [],
   "source": [
    "import csv\n",
    "data2 = [[\"Name\",\"email_id\",\"phone_number\"],\n",
    "         [\"Aditya\",\"adityakanojiya@gmail.com\",8903582234],\n",
    "         [\"shubham\",\"shubhamkanojiya@gmail.com\",123456772]\n",
    "]\n",
    "\n",
    "with open(\"data2.csv\",'w') as f:\n",
    "    writer = csv.writer(f)\n",
    "    for i in data2:\n",
    "        writer.writerow(i)"
   ]
  },
  {
   "cell_type": "code",
   "execution_count": 9,
   "id": "bec38cd5-d20b-4a4c-a88e-556394226161",
   "metadata": {},
   "outputs": [
    {
     "name": "stdout",
     "output_type": "stream",
     "text": [
      "['Name', 'email_id', 'phone_number']\n",
      "[]\n",
      "['Aditya', 'adityakanojiya@gmail.com', '8903582234']\n",
      "[]\n",
      "['shubham', 'shubhamkanojiya@gmail.com', '123456772']\n",
      "[]\n"
     ]
    }
   ],
   "source": [
    "with open(\"data2.csv\", 'r') as f:\n",
    "    read = csv.reader(f)\n",
    "    for i in read:\n",
    "        print(i)"
   ]
  },
  {
   "cell_type": "code",
   "execution_count": 10,
   "id": "999af3af-305b-4261-a175-a1b923724f49",
   "metadata": {},
   "outputs": [],
   "source": [
    "with open(\"binary_data.bin\", 'wb') as f:\n",
    "    f.write(b\"\\x01\\x02\\x03\")"
   ]
  },
  {
   "cell_type": "code",
   "execution_count": 11,
   "id": "c31807f9-8124-4319-9989-348ac19c134f",
   "metadata": {},
   "outputs": [
    {
     "name": "stdout",
     "output_type": "stream",
     "text": [
      "b'\\x01\\x02\\x03'\n"
     ]
    }
   ],
   "source": [
    "with open(\"binary_data.bin\", 'rb') as f:\n",
    "    print(f.read())"
   ]
  },
  {
   "cell_type": "code",
   "execution_count": 14,
   "id": "767cabe3-382e-4c3e-8edd-37e2e7feb041",
   "metadata": {},
   "outputs": [],
   "source": [
    "# Buffered Read and Write\n",
    "# When a computer reads or writes data, it often uses something called a buffer.\n",
    "\n",
    "# What is a Buffer?\n",
    "# A buffer is like a small container or storage area in memory. It holds data temporarily.\n",
    "\n",
    "# Buffered Read:\n",
    "# Instead of reading one small piece of data at a time, the computer reads a big chunk into the buffer.\n",
    "\n",
    "# Then it gives you the data from the buffer, one piece at a time.\n",
    "\n",
    "# Why? This is faster than reading from the file or disk again and again.\n",
    "import io\n",
    "with open(\"buffer_file.txt\", 'wb') as f:\n",
    "    file = io.BufferedWriter(f)\n",
    "    file.write(b\"this is my first line\")\n",
    "    file.write(b\"this is my second line\")\n",
    "    file.flush()"
   ]
  },
  {
   "cell_type": "code",
   "execution_count": 21,
   "id": "088432e3-51f3-4232-924b-ea3018e3f5fd",
   "metadata": {},
   "outputs": [
    {
     "name": "stdout",
     "output_type": "stream",
     "text": [
      "b'this is my first lin'\n"
     ]
    }
   ],
   "source": [
    "with open(\"buffer_file.txt\", 'rb') as f:\n",
    "    file = io.BufferedReader(f)\n",
    "    print(file.read(20))"
   ]
  },
  {
   "cell_type": "code",
   "execution_count": 25,
   "id": "c2c630dd-464a-4dd3-a224-58d0742e9ae8",
   "metadata": {},
   "outputs": [
    {
     "name": "stderr",
     "output_type": "stream",
     "text": [
      "INFO:root:this line is executable\n",
      "INFO:root:this is my print statement\n"
     ]
    }
   ],
   "source": [
    "# Logging in Python – Simple Explanation\n",
    "# Logging means recording messages about what your program is doing. These messages help you:\n",
    "\n",
    "# Debug problems\n",
    "\n",
    "# Understand what happened and when\n",
    "\n",
    "# Track errors or important events\n",
    "\n",
    "# Python has a built-in logging module that makes this easy.\n",
    "import logging\n",
    "logging.basicConfig(filename = \"test.log\", level = logging.INFO)\n",
    "logging.info(\"this line is executable\")\n",
    "logging.info(\"this is my print statement\")"
   ]
  },
  {
   "cell_type": "code",
   "execution_count": null,
   "id": "21d01eb3-8194-461c-860a-de7ee5c8c323",
   "metadata": {},
   "outputs": [],
   "source": [
    "| **Log Level** | **Use Case**                           | **Code Example**                         |\n",
    "| ------------- | -------------------------------------- | ---------------------------------------- |\n",
    "| `DEBUG`       | Detailed info for debugging            | `logging.debug(\"Details for debugging\")` |\n",
    "| `INFO`        | General information about the program  | `logging.info(\"Starting program...\")`    |\n",
    "| `WARNING`     | Something unexpected, but not an error | `logging.warning(\"Low disk space\")`      |\n",
    "| `ERROR`       | A serious problem happened             | `logging.error(\"File not found\")`        |\n",
    "| `CRITICAL`    | Very serious error; program may crash  | `logging.critical(\"System crash!\")`      |\n"
   ]
  },
  {
   "cell_type": "code",
   "execution_count": 8,
   "id": "10bd7d5c-43d5-47bd-952e-ea10e4af421c",
   "metadata": {},
   "outputs": [],
   "source": [
    "import logging\n",
    "\n",
    "logging.basicConfig(\n",
    "    filename=\"test2.log\",\n",
    "    level=logging.DEBUG,\n",
    "    format='%(asctime)s %(message)s'  # ✅ correct field name\n",
    ")\n",
    "\n",
    "logging.info(\"this is my info log\")\n",
    "logging.error(\"this is my error log\")\n",
    "logging.critical(\"this is my critical log\")\n",
    "logging.shutdown()"
   ]
  },
  {
   "cell_type": "code",
   "execution_count": 11,
   "id": "0a8c5235-60f6-4ead-9a5f-bcf5ac2e7c14",
   "metadata": {},
   "outputs": [
    {
     "name": "stdout",
     "output_type": "stream",
     "text": [
      "this is my except block [Errno 2] No such file or directory: 'test.txt3'\n"
     ]
    }
   ],
   "source": [
    "# exception handling :\n",
    "try:\n",
    "    f = open(\"test.txt3\",'r')\n",
    "except Exception as e :\n",
    "    print(\"this is my except block\", e)\n",
    "        "
   ]
  },
  {
   "cell_type": "code",
   "execution_count": 15,
   "id": "5be213b2-14ae-4640-90b5-993bcf96dfea",
   "metadata": {},
   "outputs": [
    {
     "name": "stdin",
     "output_type": "stream",
     "text": [
      "Enter numerator:  12\n",
      "Enter denominator:  4\n"
     ]
    },
    {
     "name": "stdout",
     "output_type": "stream",
     "text": [
      "✅ Division successful. Result is: 3.0\n",
      "🔚 Program execution complete.\n"
     ]
    }
   ],
   "source": [
    "# ✅ What is Exception Handling in Python?\n",
    "# Exception handling means:\n",
    "# Handling errors that happen during the execution of your code — without crashing the program.\n",
    "# Python gives you a way to handle errors using:\n",
    "\n",
    "# # syntax:\n",
    "# try:\n",
    "#     # risky code\n",
    "# except:\n",
    "#     # what to do if error happens\n",
    "\n",
    "# exmaple :\n",
    "try:\n",
    "    a = int(input(\"Enter numerator: \"))\n",
    "    b = int(input(\"Enter denominator: \"))\n",
    "    result = a / b\n",
    "except ZeroDivisionError:\n",
    "    print(\"❌ You can't divide by zero!\")\n",
    "except ValueError:\n",
    "    print(\"❌ Please enter valid numbers only!\")\n",
    "else:\n",
    "    print(\"✅ Division successful. Result is:\", result)\n",
    "finally:\n",
    "    print(\"🔚 Program execution complete.\")\n",
    "\n",
    "# 🔍 Explanation:\n",
    "# Block\tPurpose\n",
    "# try\tCode that may cause error (like divide by 0 or wrong input)\n",
    "# except\tHandles errors like ZeroDivisionError or ValueError\n",
    "# else\tRuns only if no error occurs in try block\n",
    "# finally\tRuns no matter what — used for cleanup or end message"
   ]
  },
  {
   "cell_type": "code",
   "execution_count": 17,
   "id": "3c84d094-8172-494e-9467-9b9d13ec38e1",
   "metadata": {},
   "outputs": [
    {
     "name": "stdin",
     "output_type": "stream",
     "text": [
      "Enter amount to withdraw:  2000\n"
     ]
    },
    {
     "name": "stdout",
     "output_type": "stream",
     "text": [
      "❌ Not enough balance to withdraw!\n",
      "🔚 Transaction complete.\n"
     ]
    }
   ],
   "source": [
    "# 🧾 What is a Custom Exception?\n",
    "# Python has built-in exceptions like ValueError, ZeroDivisionError, etc.\n",
    "\n",
    "# But sometimes, you want to create your own error type — when something specific to your application goes wrong. \n",
    "# That’s where custom exceptions come in.\n",
    "# ✅ How to Create a Custom Exception\n",
    "# You create a custom exception by making a new class that inherits from Exception.\n",
    "\n",
    "# class MyCustomError(Exception):\n",
    "#     pass\n",
    "\n",
    "# 🎯 Real-World Example: Bank Withdrawal\n",
    "# You want to make sure that someone can’t withdraw more money than is available. \n",
    "# Step 1: Create custom exception\n",
    "class InsufficientFundsError(Exception):\n",
    "    pass\n",
    "\n",
    "# Step 2: Use it in your logic\n",
    "def withdraw(balance, amount):\n",
    "    if amount > balance:\n",
    "        raise InsufficientFundsError(\"❌ Not enough balance to withdraw!\")\n",
    "    return balance - amount\n",
    "\n",
    "# Step 3: Use try-except to handle it\n",
    "try:\n",
    "    balance = 1000\n",
    "    amount = int(input(\"Enter amount to withdraw: \"))\n",
    "    new_balance = withdraw(balance, amount)\n",
    "    print(\"✅ Withdrawal successful. Remaining balance:\", new_balance)\n",
    "except InsufficientFundsError as e:\n",
    "    print(e)\n",
    "except ValueError:\n",
    "    print(\"❌ Please enter a valid number!\")\n",
    "finally:\n",
    "    print(\"🔚 Transaction complete.\")\n"
   ]
  },
  {
   "cell_type": "code",
   "execution_count": 20,
   "id": "d86bb966-730e-4137-852e-db58e1773478",
   "metadata": {},
   "outputs": [
    {
     "name": "stdout",
     "output_type": "stream",
     "text": [
      "❌ You can't divide by zero!\n",
      "❌ Please enter a valid number!\n",
      "❌ You can't add string and number!\n",
      "❌ List index out of range!\n",
      "❌ Key not found in dictionary!\n",
      "❌ File not found!\n",
      "❌ Module not found!\n",
      "❌ 'str' object has no attribute 'append'\n",
      "❌ Variable not defined!\n"
     ]
    }
   ],
   "source": [
    "# list of genral use of exception :\n",
    "# . ZeroDivisionError\n",
    "# 1)❗ Trying to divide by zero\n",
    "\n",
    "try:\n",
    "    result = 10 / 0\n",
    "except ZeroDivisionError:\n",
    "    print(\"❌ You can't divide by zero!\")\n",
    "# 2. ValueError\n",
    "# ❗ Wrong value type passed (like converting \"abc\" to int)\n",
    "\n",
    "try:\n",
    "    age = int(\"abc\")\n",
    "except ValueError:\n",
    "    print(\"❌ Please enter a valid number!\")\n",
    "\n",
    "# 3. TypeError\n",
    "# ❗ Wrong data types used in an operation\n",
    "\n",
    "try:\n",
    "    result = \"5\" + 10\n",
    "except TypeError:\n",
    "    print(\"❌ You can't add string and number!\")\n",
    "\n",
    "# 4. IndexError\n",
    "# ❗ Accessing invalid index in a list\n",
    "\n",
    "try:\n",
    "    my_list = [1, 2, 3]\n",
    "    print(my_list[5])\n",
    "except IndexError:\n",
    "    print(\"❌ List index out of range!\")\n",
    "\n",
    "# 5. KeyError\n",
    "# ❗ Accessing missing key in a dictionary\n",
    "\n",
    "try:\n",
    "    my_dict = {\"name\": \"Alice\"}\n",
    "    print(my_dict[\"age\"])\n",
    "except KeyError:\n",
    "    print(\"❌ Key not found in dictionary!\")\n",
    "\n",
    "# 6. FileNotFoundError\n",
    "# ❗ Trying to open a file that doesn't exist\n",
    "\n",
    "try:\n",
    "    with open(\"missing_file.txt\", \"r\") as file:\n",
    "        content = file.read()\n",
    "except FileNotFoundError:\n",
    "    print(\"❌ File not found!\")\n",
    "    \n",
    "# 7. ImportError / ModuleNotFoundError\n",
    "# ❗ Importing a module that doesn’t exist\n",
    "\n",
    "try:\n",
    "    import notamodule\n",
    "except ModuleNotFoundError:\n",
    "    print(\"❌ Module not found!\")\n",
    "\n",
    "# 8. AttributeError\n",
    "# ❗ Trying to use a method or property that doesn’t exist on an object\n",
    "\n",
    "try:\n",
    "    name = \"Python\"\n",
    "    name.append(\"3\")  # append is not for strings\n",
    "except AttributeError:\n",
    "    print(\"❌ 'str' object has no attribute 'append'\")\n",
    "\n",
    "\n",
    "# 9. NameError\n",
    "# ❗ Using a variable that hasn’t been defined\n",
    "\n",
    "try:\n",
    "    print(xyz)\n",
    "except NameError:\n",
    "    print(\"❌ Variable not defined!\")\n",
    "\n",
    "# 10. IndentationError / SyntaxError\n",
    "# ❗ Code is not written correctly (can't be caught with try-except — happens during parsing)\n",
    "\n",
    "# This will raise SyntaxError when the code is parsed\n",
    "# try:\n",
    "#     if True\n",
    "#         print(\"Hello\")\n",
    "# except SyntaxError:\n",
    "#     print(\"❌ Syntax is wrong!\")  # SyntaxError is raised before try block runs"
   ]
  },
  {
   "cell_type": "code",
   "execution_count": 22,
   "id": "740c1869-493f-4356-bc7b-959f8fec64cf",
   "metadata": {},
   "outputs": [
    {
     "name": "stdout",
     "output_type": "stream",
     "text": [
      "✅ Both tasks completed!\n"
     ]
    }
   ],
   "source": [
    "# 🧠 What is Multiprocessing?\n",
    "# Python normally runs code one line at a time — this is called single-threaded.\n",
    "\n",
    "# But sometimes, you want to do multiple things at the same time (especially when tasks are slow or CPU-heavy).\n",
    "# This is where multiprocessing helps.\n",
    "\n",
    "# ✅ Multiprocessing means:\n",
    "# Running code in parallel using multiple CPU cores to make it faster.\n",
    "\n",
    "# 🔧 Where is it used?\n",
    "# Processing large data files\n",
    "# Image or video processing\n",
    "# Downloading multiple files at the same time\n",
    "# Running multiple tasks together without waiting\n",
    " #exmaple:\n",
    "\n",
    "import multiprocessing\n",
    "import time\n",
    "\n",
    "def task(name):\n",
    "    print(f\"Task {A} started\")\n",
    "    time.sleep(2)  # simulate work\n",
    "    print(f\"Task {B} finished\")\n",
    "\n",
    "if __name__ == \"__main__\":\n",
    "    # Create two processes\n",
    "    p1 = multiprocessing.Process(target=task, args=(\"A\",))\n",
    "    p2 = multiprocessing.Process(target=task, args=(\"B\",))\n",
    "\n",
    "    # Start both processes\n",
    "    p1.start()\n",
    "    p2.start()\n",
    "\n",
    "    # Wait for both to finish\n",
    "    p1.join()\n",
    "    p2.join()\n",
    "\n",
    "    print(\"✅ Both tasks completed!\")\n",
    "\n",
    "\n",
    "# 🔍 How it works:\n",
    "# Code Part\tMeaning\n",
    "# Process()\tCreates a new process\n",
    "# start()\tStarts that process\n",
    "# join()\tWaits for that process to finish\n",
    "\n",
    "# ⚠️ Important Notes:\n",
    "# Always wrap your code inside if __name__ == \"__main__\" block (especially on Windows).\n",
    "\n",
    "# Don’t share variables between processes unless using special shared memory objects.\n",
    "\n"
   ]
  },
  {
   "cell_type": "code",
   "execution_count": 23,
   "id": "060aa900-e231-418e-8bca-9d55c27d5415",
   "metadata": {},
   "outputs": [
    {
     "name": "stdout",
     "output_type": "stream",
     "text": [
      "[Thu Jun  5 17:23:52 2025] ✅ Both tasks completed!\n"
     ]
    }
   ],
   "source": [
    "import multiprocessing\n",
    "import time\n",
    "\n",
    "def task(name):\n",
    "    print(f\"[{time.ctime()}] Task {name} started\", flush=True)\n",
    "    time.sleep(2)\n",
    "    print(f\"[{time.ctime()}] Task {name} finished\", flush=True)\n",
    "\n",
    "if __name__ == \"__main__\":\n",
    "    p1 = multiprocessing.Process(target=task, args=(\"A\",))\n",
    "    p2 = multiprocessing.Process(target=task, args=(\"B\",))\n",
    "\n",
    "    p1.start()\n",
    "    p2.start()\n",
    "\n",
    "    p1.join()\n",
    "    p2.join()\n",
    "\n",
    "    print(f\"[{time.ctime()}] ✅ Both tasks completed!\", flush=True)\n"
   ]
  },
  {
   "cell_type": "code",
   "execution_count": null,
   "id": "59d20867-6782-449a-a734-cf2a3a94e1ae",
   "metadata": {},
   "outputs": [],
   "source": [
    "types of multiprocessing :\n",
    "1. ✅ Process Class (Basic Process)\n",
    "Sabse basic tarika — manually har process banaya jaata hai.\n",
    "from multiprocessing import Process\n",
    "✔️ Jab thode hi tasks ho.\n",
    "\n",
    "2. ✅ Pool Class (Automatic Worker Pool)\n",
    "Automatic tarike se multiple processes chalaata hai — jaise 4 workers ho aur unme kaam baant do.\n",
    "from multiprocessing import Pool\n",
    "✔️ Jab ek hi function ko baar-baar different data pe run karna ho.\n",
    "\n",
    "3. ✅ Queue and Pipe (For Communication)\n",
    "Alag processes ke beech data share karne ke liye.\n",
    "from multiprocessing import Queue, Pipe\n",
    "✔️ Jab aapko processes ke beech result ya data bhejna ho.\n",
    "\n",
    "4. ✅ Manager (Shared Data Structures)\n",
    "Shared list, dict, etc. ka access alag-alag processes me.\n",
    "from multiprocessing import Manager\n",
    "✔️ Jab multiple processes ek hi list ya dict me kaam kar rahe ho.\n",
    "\n",
    "5. ✅ Lock (For Synchronization)\n",
    "Race condition rokne ke liye — jab 2 process ek hi resource pe kaam kar rahe ho.\n",
    "from multiprocessing import Lock\n",
    "✔️ Jab data corruption se bachna ho (critical section control).\n",
    "\n",
    "🧪 Ek-Ek Line Summary:\n",
    "Type\tKab use karein\n",
    "Process\tJab manual control chahiye\n",
    "Pool\tJab ek hi kaam baar-baar parallel karna ho\n",
    "Queue/Pipe\tJab processes ke beech data bhejna ho\n",
    "Manager\tJab shared data structures chahiye\n",
    "Lock\tJab ek waqt me sirf ek process access kare\n"
   ]
  },
  {
   "cell_type": "code",
   "execution_count": null,
   "id": "146bbfe5-4886-43d0-b9b5-b57bd649f526",
   "metadata": {},
   "outputs": [],
   "source": [
    "# ✅ Chhota Example: Pool\n",
    "\n",
    "from multiprocessing import Pool\n",
    "\n",
    "def square(x):\n",
    "    return x*x\n",
    "\n",
    "if __name__ == \"__main__\":\n",
    "    with Pool(4) as p:\n",
    "        result = p.map(square, [1, 2, 3, 4, 5])\n",
    "        print(\"Squares:\", result)\n",
    "# ✔️ Output: Squares: [1, 4, 9, 16, 25]"
   ]
  },
  {
   "cell_type": "code",
   "execution_count": null,
   "id": "edc4fac3-968e-4f5f-bf6b-ac69a7fffcf9",
   "metadata": {},
   "outputs": [],
   "source": [
    "✅ 1. Process – Manual Process Creation\n",
    "🧠 Use when: You want full control over each process.\n",
    "from multiprocessing import Process\n",
    "import time\n",
    "\n",
    "def show(name):\n",
    "    print(f\"Hello from {name}\")\n",
    "    time.sleep(2)\n",
    "    print(f\"{name} finished\")\n",
    "\n",
    "if __name__ == \"__main__\":\n",
    "    p1 = Process(target=show, args=(\"Process 1\",))\n",
    "    p2 = Process(target=show, args=(\"Process 2\",))\n",
    "\n",
    "    p1.start()\n",
    "    p2.start()\n",
    "\n",
    "    p1.join()\n",
    "    p2.join()\n",
    "\n",
    "    print(\"✅ All processes done.\")\n",
    "\n",
    "🔍 Explanation:\n",
    "Process() creates a new process.\n",
    "\n",
    "start() begins the task.\n",
    "\n",
    "join() waits for it to complete.\n",
    "\n",
    "Good when you have 2–3 separate tasks."
   ]
  },
  {
   "cell_type": "code",
   "execution_count": null,
   "id": "e8a346ab-6cf0-4155-bb05-9cb99dbed634",
   "metadata": {},
   "outputs": [],
   "source": [
    "# ✅ 2. Pool – Automatic Process Pooling\n",
    "# 🧠 Use when: You want to run the same function on multiple values.\n",
    "\n",
    "from multiprocessing import Pool\n",
    "\n",
    "def square(x):\n",
    "    return x * x\n",
    "\n",
    "if __name__ == \"__main__\":\n",
    "    with Pool(4) as pool:\n",
    "        results = pool.map(square, [1, 2, 3, 4, 5])\n",
    "        print(\"Squares:\", results)\n",
    "# 🔍 Explanation:\n",
    "# Pool(4) creates 4 worker processes.\n",
    "\n",
    "# map() runs square() function in parallel.\n",
    "\n",
    "# Best when same function is called on many inputs.\n",
    "\n"
   ]
  },
  {
   "cell_type": "code",
   "execution_count": null,
   "id": "2dcdf5a4-9d8a-4319-b97c-6284f63b33a1",
   "metadata": {},
   "outputs": [],
   "source": [
    "✅ 3. Queue – Communication Between Processes\n",
    "🧠 Use when: You want one process to send data to another.\n",
    "\n",
    "from multiprocessing import Process, Queue\n",
    "\n",
    "def worker(q):\n",
    "    q.put(\"Data from process\")\n",
    "\n",
    "if __name__ == \"__main__\":\n",
    "    q = Queue()\n",
    "    p = Process(target=worker, args=(q,))\n",
    "    p.start()\n",
    "    print(q.get())  # Receive data from queue\n",
    "    p.join()\n",
    "\n",
    "🔍 Explanation:\n",
    "Queue() is a shared pipe between processes.\n",
    "put() sends data.\n",
    "get() receives it.\n",
    "Useful when processes need to talk to each other."
   ]
  },
  {
   "cell_type": "code",
   "execution_count": 26,
   "id": "1d054349-bd9d-47d7-bf63-91b84af2eabc",
   "metadata": {},
   "outputs": [
    {
     "name": "stdout",
     "output_type": "stream",
     "text": [
      "Shared list: []\n"
     ]
    }
   ],
   "source": [
    "# ✅ 4. Manager – Share Data Structures\n",
    "# 🧠 Use when: Multiple processes need to read/write same data.\n",
    "\n",
    "from multiprocessing import Process, Manager\n",
    "\n",
    "def add_data(shared_list):\n",
    "    shared_list.append(100)\n",
    "\n",
    "if __name__ == \"__main__\":\n",
    "    with Manager() as manager:\n",
    "        shared = manager.list()\n",
    "        p = Process(target=add_data, args=(shared,))\n",
    "        p.start()\n",
    "        p.join()\n",
    "        print(\"Shared list:\", list(shared))\n",
    "\n",
    "\n",
    "# 🔍 Explanation:\n",
    "# Manager() gives shared memory.\n",
    "# shared.list() is accessible to all processes.\n",
    "# Use when multiple processes need to work on same data.\n",
    "\n"
   ]
  },
  {
   "cell_type": "code",
   "execution_count": 25,
   "id": "dde7b258-e465-46cb-a378-e69b950bc8a6",
   "metadata": {},
   "outputs": [],
   "source": [
    "# ✅ 5. Lock – Prevent Data Collision (Race Condition)\n",
    "# 🧠 Use when: You want to protect a resource from being accessed by many at once.\n",
    "\n",
    "from multiprocessing import Process, Lock\n",
    "\n",
    "def safe_print(lock, msg):\n",
    "    lock.acquire()\n",
    "    print(msg)\n",
    "    lock.release()\n",
    "\n",
    "if __name__ == \"__main__\":\n",
    "    lock = Lock()\n",
    "    for i in range(3):\n",
    "        Process(target=safe_print, args=(lock, f\"Message {i}\")).start()\n",
    "\n",
    "# 🔍 Explanation:\n",
    "# Lock() ensures only one process at a time can print.\n",
    "# Prevents mixed-up output or data corruption."
   ]
  },
  {
   "cell_type": "code",
   "execution_count": null,
   "id": "e6bf2871-eb52-48f0-b13a-59b29a221d14",
   "metadata": {},
   "outputs": [],
   "source": []
  }
 ],
 "metadata": {
  "kernelspec": {
   "display_name": "Python [conda env:base] *",
   "language": "python",
   "name": "conda-base-py"
  },
  "language_info": {
   "codemirror_mode": {
    "name": "ipython",
    "version": 3
   },
   "file_extension": ".py",
   "mimetype": "text/x-python",
   "name": "python",
   "nbconvert_exporter": "python",
   "pygments_lexer": "ipython3",
   "version": "3.12.7"
  }
 },
 "nbformat": 4,
 "nbformat_minor": 5
}
